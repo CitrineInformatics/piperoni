{
 "cells": [
  {
   "cell_type": "markdown",
   "metadata": {
    "slideshow": {
     "slide_type": "slide"
    }
   },
   "source": [
    "# Piperoni - Tools for Authoring Data Pipelines\n"
   ]
  },
  {
   "cell_type": "markdown",
   "metadata": {
    "slideshow": {
     "slide_type": "fragment"
    }
   },
   "source": [
    "###  Piperoni Objectives\n",
    "1. Offer a framework for authoring data pipelines that are **modular** and **readable**.\n",
    "2. Implement a common suite of tools that are common in DE work (**tested components**).\n",
    "\n",
    "### Types of Data\n",
    "- Prior customer work has shown that **tabular** data is the most prevalant source of data\n"
   ]
  },
  {
   "cell_type": "markdown",
   "metadata": {
    "slideshow": {
     "slide_type": "slide"
    }
   },
   "source": [
    "### Basis of Piperoni - Three Base Python Objects\n",
    "- **Operator** - Atomic unit for transforming data. There are three base Operator classes: CastOperator, TransformOperator and PassthroughOperator. CastOperator is for operations that change the data type, TransformOperator requires input and output data types to be the same, and PassthroughOperator is for operations that do not modify the data. Some common operations include:\n",
    "  - *Extract* - from CSV, JSON, and Excel files\n",
    "  - *Transform* - map csv headers, featurize a dataset\n",
    "  - *Load* - save data to a checkpoint file, upload objects to the platform\n",
    "  - *Validation* - checks on data to ensure quality\n",
    "- **Pipe** - Chains several operators together in a linear (single in/single out) fashion.\n",
    "- **Pipeline** - Aggregate several pipes together with support for branching and caching."
   ]
  },
  {
   "cell_type": "markdown",
   "metadata": {
    "slideshow": {
     "slide_type": "slide"
    }
   },
   "source": [
    "### Example Data Pipeline - Ingest Local Files to the Citrine Platform\n",
    "Strellow and Cook Dataset: bandgaps on 1450 inorganic materials.\n",
    "\n",
    "Procurement | Identity | Measurement | Band gap | uncertainty in band gap | Crystallinity | Color\n",
    "---|---|---|---|---|---|---|\n",
    "Purchased | BeO | General Measurement | 14.5 | 0 | | \n",
    "Purchased | LiF | General Measurement | 13.6 | 0 | Single crystalline |"
   ]
  },
  {
   "cell_type": "code",
   "execution_count": 1,
   "metadata": {},
   "outputs": [],
   "source": [
    "%load_ext autoreload\n",
    "%autoreload 2"
   ]
  },
  {
   "cell_type": "code",
   "execution_count": 2,
   "metadata": {
    "slideshow": {
     "slide_type": "slide"
    }
   },
   "outputs": [],
   "source": [
    "# loads pre-built operators from the piperoni library\n",
    "\n",
    "from piperoni.operators.transform_operator import TransformOperator\n",
    "from piperoni.operators.cast_operator import CastOperator\n",
    "from piperoni.operators.passthrough_operator import PassthroughOperator\n",
    "\n",
    "from piperoni.operators.extract.extract_file.csv_ import CSVExtractor\n",
    "from piperoni.operators.transform.assign_uids_operator import AssignUIDsOperator\n",
    "from piperoni.operators.transform.transform_name.header_map import HeaderMap\n",
    "from piperoni.operators.pipe import Pipe\n",
    "from piperoni.operators.pipeline import Pipeline, PipelineData\n",
    "\n",
    "import logging\n",
    "import pandas as pd"
   ]
  },
  {
   "cell_type": "code",
   "execution_count": 3,
   "metadata": {},
   "outputs": [],
   "source": [
    "class SigmaOutlierDetector(PassthroughOperator):\n",
    "\n",
    "    def __init__(self, sigmas=4, stop_execution=False):\n",
    "        super().__init__()\n",
    "        self.sigmas = sigmas\n",
    "        self.stop_execution=stop_execution\n",
    "        \n",
    "    def test_equals(self, input_, output_):\n",
    "        return input_.equals(output_)\n",
    "\n",
    "    def transform(self, df):\n",
    "        stats = df.describe().loc[[\"mean\", \"std\"]]\n",
    "\n",
    "        # get allowed upper and lower bound of each column\n",
    "        bounds = dict()\n",
    "        for col in stats:\n",
    "            bounds[col] = {\n",
    "                \"upper\": stats.loc[\"mean\", col]\n",
    "                + stats.loc[\"std\", col] * self.sigmas,\n",
    "                \"lower\": stats.loc[\"mean\", col]\n",
    "                - stats.loc[\"std\", col] * self.sigmas,\n",
    "            }\n",
    "\n",
    "        # collect outliers\n",
    "        outliers = dict()\n",
    "        for col in stats:\n",
    "            for val in df[col]:\n",
    "                if val > bounds[col][\"upper\"] or val < bounds[col][\"lower\"]:\n",
    "                    if col in outliers:\n",
    "                        outliers[col].append(val)\n",
    "                    else:\n",
    "                        outliers[col] = [val]\n",
    "\n",
    "        if outliers:\n",
    "            if self.stop_execution:\n",
    "                raise ValueError(\"Outliers have been detected in your dataframe.\")\n",
    "            else:\n",
    "                self.logger.info('Outliers!!')\n",
    "        return df\n",
    "            \n",
    "            "
   ]
  },
  {
   "cell_type": "code",
   "execution_count": 11,
   "metadata": {
    "scrolled": true,
    "slideshow": {
     "slide_type": "slide"
    }
   },
   "outputs": [
    {
     "name": "stderr",
     "output_type": "stream",
     "text": [
      "2020-12-15_13.21.36 - My pipe - Pipe: Pipe initialized.\n",
      "2020-12-15_13.21.36 - My pipe - Pipe: The pipe consists of the following transforms:\n",
      "2020-12-15_13.21.36 - My pipe - Pipe: CSVExtractor\n",
      "2020-12-15_13.21.36 - My pipe - Pipe: AssignUIDsOperator\n",
      "2020-12-15_13.21.36 - My pipe - Pipe: SigmaOutlierDetector\n",
      "2020-12-15_13.21.36 - My pipe - Pipe: HeaderMap\n",
      "2020-12-15_13.21.36 - My pipe - Pipe: Starting execution of pipe.\n",
      "  2020-12-15_13.21.36 - My pipe - CSVExtractor: Applying transform\n",
      "  2020-12-15_13.21.36 - My pipe - CSVExtractor: Applied transform\n",
      "  2020-12-15_13.21.36 - My pipe - Checkpoint: Applying transform\n",
      "  2020-12-15_13.21.36 - My pipe - Checkpoint: Applied transform\n",
      "  2020-12-15_13.21.36 - My pipe - AssignUIDsOperator: Applying transform\n",
      "  2020-12-15_13.21.36 - My pipe - AssignUIDsOperator: Applied transform\n",
      "  2020-12-15_13.21.36 - My pipe - Checkpoint: Applying transform\n",
      "  2020-12-15_13.21.36 - My pipe - Checkpoint: Applied transform\n",
      "  2020-12-15_13.21.36 - My pipe - SigmaOutlierDetector: Applying transform\n",
      "  2020-12-15_13.21.36 - My pipe - SigmaOutlierDetector: Fatal error encountered in transform:\n",
      "  2020-12-15_13.21.36 - My pipe - SigmaOutlierDetector: Outliers have been detected in your dataframe.\n",
      "Traceback (most recent call last):\n",
      "  File \"/Users/esevgen/Citrine/Projects/sturmanite_SECRET/sturmanite_poc/src/piperoni/piperoni/operators/pipe.py\", line 225, in _apply\n",
      "    output = transform(input_)\n",
      "  File \"/Users/esevgen/Citrine/Projects/sturmanite_SECRET/sturmanite_poc/src/piperoni/piperoni/operators/passthrough_operator.py\", line 37, in __call__\n",
      "    output_ = self.transform(*args, **kwargs)\n",
      "  File \"<ipython-input-3-6c9c79f679fd>\", line 36, in transform\n",
      "    raise ValueError(\"Outliers have been detected in your dataframe.\")\n",
      "ValueError: Outliers have been detected in your dataframe.\n"
     ]
    },
    {
     "ename": "ValueError",
     "evalue": "Outliers have been detected in your dataframe.",
     "output_type": "error",
     "traceback": [
      "\u001b[0;31m---------------------------------------------------------------------------\u001b[0m",
      "\u001b[0;31mValueError\u001b[0m                                Traceback (most recent call last)",
      "\u001b[0;32m<ipython-input-11-c2c83b52b0da>\u001b[0m in \u001b[0;36m<module>\u001b[0;34m\u001b[0m\n\u001b[1;32m     17\u001b[0m     \u001b[0mlogging_path\u001b[0m \u001b[0;34m=\u001b[0m \u001b[0;34m'/Users/esevgen/Citrine/Projects/'\u001b[0m\u001b[0;34m\u001b[0m\u001b[0;34m\u001b[0m\u001b[0m\n\u001b[1;32m     18\u001b[0m )\n\u001b[0;32m---> 19\u001b[0;31m \u001b[0mgems\u001b[0m \u001b[0;34m=\u001b[0m \u001b[0mpipe\u001b[0m\u001b[0;34m(\u001b[0m\u001b[0;34m\"Strehlow and Cook.csv\"\u001b[0m\u001b[0;34m)\u001b[0m\u001b[0;34m\u001b[0m\u001b[0;34m\u001b[0m\u001b[0m\n\u001b[0m",
      "\u001b[0;32m~/Citrine/Projects/sturmanite_SECRET/sturmanite_poc/src/piperoni/piperoni/operators/base.py\u001b[0m in \u001b[0;36m__call__\u001b[0;34m(self, *args, **kwargs)\u001b[0m\n\u001b[1;32m     52\u001b[0m     \u001b[0;32mdef\u001b[0m \u001b[0m__call__\u001b[0m\u001b[0;34m(\u001b[0m\u001b[0mself\u001b[0m\u001b[0;34m,\u001b[0m \u001b[0;34m*\u001b[0m\u001b[0margs\u001b[0m\u001b[0;34m,\u001b[0m \u001b[0;34m**\u001b[0m\u001b[0mkwargs\u001b[0m\u001b[0;34m)\u001b[0m \u001b[0;34m->\u001b[0m \u001b[0mobject\u001b[0m\u001b[0;34m:\u001b[0m\u001b[0;34m\u001b[0m\u001b[0;34m\u001b[0m\u001b[0m\n\u001b[1;32m     53\u001b[0m         \u001b[0;34m\"\"\"Class instances emulate callable methods.\"\"\"\u001b[0m\u001b[0;34m\u001b[0m\u001b[0;34m\u001b[0m\u001b[0m\n\u001b[0;32m---> 54\u001b[0;31m         \u001b[0;32mreturn\u001b[0m \u001b[0mself\u001b[0m\u001b[0;34m.\u001b[0m\u001b[0mtransform\u001b[0m\u001b[0;34m(\u001b[0m\u001b[0;34m*\u001b[0m\u001b[0margs\u001b[0m\u001b[0;34m,\u001b[0m \u001b[0;34m**\u001b[0m\u001b[0mkwargs\u001b[0m\u001b[0;34m)\u001b[0m\u001b[0;34m\u001b[0m\u001b[0;34m\u001b[0m\u001b[0m\n\u001b[0m",
      "\u001b[0;32m~/Citrine/Projects/sturmanite_SECRET/sturmanite_poc/src/piperoni/piperoni/operators/pipe.py\u001b[0m in \u001b[0;36mtransform\u001b[0;34m(self, input_)\u001b[0m\n\u001b[1;32m    107\u001b[0m             \u001b[0;32mif\u001b[0m \u001b[0mloggable_transform\u001b[0m\u001b[0;34m:\u001b[0m\u001b[0;34m\u001b[0m\u001b[0;34m\u001b[0m\u001b[0m\n\u001b[1;32m    108\u001b[0m                 \u001b[0mautocompare_transform\u001b[0m \u001b[0;34m=\u001b[0m \u001b[0mCompareOperator\u001b[0m\u001b[0;34m(\u001b[0m\u001b[0minput_\u001b[0m\u001b[0;34m,\u001b[0m \u001b[0mself\u001b[0m\u001b[0;34m.\u001b[0m\u001b[0muid_column\u001b[0m\u001b[0;34m)\u001b[0m\u001b[0;34m\u001b[0m\u001b[0;34m\u001b[0m\u001b[0m\n\u001b[0;32m--> 109\u001b[0;31m             \u001b[0minput_\u001b[0m \u001b[0;34m=\u001b[0m \u001b[0mself\u001b[0m\u001b[0;34m.\u001b[0m\u001b[0m_apply\u001b[0m\u001b[0;34m(\u001b[0m\u001b[0mstep\u001b[0m\u001b[0;34m,\u001b[0m \u001b[0minput_\u001b[0m\u001b[0;34m)\u001b[0m\u001b[0;34m\u001b[0m\u001b[0;34m\u001b[0m\u001b[0m\n\u001b[0m\u001b[1;32m    110\u001b[0m             \u001b[0;32mif\u001b[0m \u001b[0mloggable_transform\u001b[0m\u001b[0;34m:\u001b[0m\u001b[0;34m\u001b[0m\u001b[0;34m\u001b[0m\u001b[0m\n\u001b[1;32m    111\u001b[0m                 \u001b[0minput_\u001b[0m \u001b[0;34m=\u001b[0m \u001b[0mself\u001b[0m\u001b[0;34m.\u001b[0m\u001b[0m_apply\u001b[0m\u001b[0;34m(\u001b[0m\u001b[0mautocompare_transform\u001b[0m\u001b[0;34m,\u001b[0m \u001b[0minput_\u001b[0m\u001b[0;34m)\u001b[0m\u001b[0;34m\u001b[0m\u001b[0;34m\u001b[0m\u001b[0m\n",
      "\u001b[0;32m~/Citrine/Projects/sturmanite_SECRET/sturmanite_poc/src/piperoni/piperoni/operators/pipe.py\u001b[0m in \u001b[0;36m_apply\u001b[0;34m(self, transform, input_)\u001b[0m\n\u001b[1;32m    227\u001b[0m             \u001b[0mself\u001b[0m\u001b[0;34m.\u001b[0m\u001b[0mlogger\u001b[0m\u001b[0;34m.\u001b[0m\u001b[0merror\u001b[0m\u001b[0;34m(\u001b[0m\u001b[0;34mf\"Fatal error encountered in transform:\"\u001b[0m\u001b[0;34m)\u001b[0m\u001b[0;34m\u001b[0m\u001b[0;34m\u001b[0m\u001b[0m\n\u001b[1;32m    228\u001b[0m             \u001b[0mself\u001b[0m\u001b[0;34m.\u001b[0m\u001b[0mlogger\u001b[0m\u001b[0;34m.\u001b[0m\u001b[0mexception\u001b[0m\u001b[0;34m(\u001b[0m\u001b[0;34mf\"{caught_exception}\"\u001b[0m\u001b[0;34m)\u001b[0m\u001b[0;34m\u001b[0m\u001b[0;34m\u001b[0m\u001b[0m\n\u001b[0;32m--> 229\u001b[0;31m             \u001b[0;32mraise\u001b[0m \u001b[0mcaught_exception\u001b[0m\u001b[0;34m\u001b[0m\u001b[0;34m\u001b[0m\u001b[0m\n\u001b[0m\u001b[1;32m    230\u001b[0m         \u001b[0mself\u001b[0m\u001b[0;34m.\u001b[0m\u001b[0mlogger\u001b[0m\u001b[0;34m.\u001b[0m\u001b[0minfo\u001b[0m\u001b[0;34m(\u001b[0m\u001b[0;34mf\"Applied transform\"\u001b[0m\u001b[0;34m)\u001b[0m\u001b[0;34m\u001b[0m\u001b[0;34m\u001b[0m\u001b[0m\n\u001b[1;32m    231\u001b[0m \u001b[0;34m\u001b[0m\u001b[0m\n",
      "\u001b[0;32m~/Citrine/Projects/sturmanite_SECRET/sturmanite_poc/src/piperoni/piperoni/operators/pipe.py\u001b[0m in \u001b[0;36m_apply\u001b[0;34m(self, transform, input_)\u001b[0m\n\u001b[1;32m    223\u001b[0m         \u001b[0mself\u001b[0m\u001b[0;34m.\u001b[0m\u001b[0mlogger\u001b[0m\u001b[0;34m.\u001b[0m\u001b[0minfo\u001b[0m\u001b[0;34m(\u001b[0m\u001b[0;34mf\"Applying transform\"\u001b[0m\u001b[0;34m)\u001b[0m\u001b[0;34m\u001b[0m\u001b[0;34m\u001b[0m\u001b[0m\n\u001b[1;32m    224\u001b[0m         \u001b[0;32mtry\u001b[0m\u001b[0;34m:\u001b[0m\u001b[0;34m\u001b[0m\u001b[0;34m\u001b[0m\u001b[0m\n\u001b[0;32m--> 225\u001b[0;31m             \u001b[0moutput\u001b[0m \u001b[0;34m=\u001b[0m \u001b[0mtransform\u001b[0m\u001b[0;34m(\u001b[0m\u001b[0minput_\u001b[0m\u001b[0;34m)\u001b[0m\u001b[0;34m\u001b[0m\u001b[0;34m\u001b[0m\u001b[0m\n\u001b[0m\u001b[1;32m    226\u001b[0m         \u001b[0;32mexcept\u001b[0m \u001b[0mException\u001b[0m \u001b[0;32mas\u001b[0m \u001b[0mcaught_exception\u001b[0m\u001b[0;34m:\u001b[0m\u001b[0;34m\u001b[0m\u001b[0;34m\u001b[0m\u001b[0m\n\u001b[1;32m    227\u001b[0m             \u001b[0mself\u001b[0m\u001b[0;34m.\u001b[0m\u001b[0mlogger\u001b[0m\u001b[0;34m.\u001b[0m\u001b[0merror\u001b[0m\u001b[0;34m(\u001b[0m\u001b[0;34mf\"Fatal error encountered in transform:\"\u001b[0m\u001b[0;34m)\u001b[0m\u001b[0;34m\u001b[0m\u001b[0;34m\u001b[0m\u001b[0m\n",
      "\u001b[0;32m~/Citrine/Projects/sturmanite_SECRET/sturmanite_poc/src/piperoni/piperoni/operators/passthrough_operator.py\u001b[0m in \u001b[0;36m__call__\u001b[0;34m(self, *args, **kwargs)\u001b[0m\n\u001b[1;32m     35\u001b[0m         \u001b[0;31m# TODO: Is this a problem?\u001b[0m\u001b[0;34m\u001b[0m\u001b[0;34m\u001b[0m\u001b[0;34m\u001b[0m\u001b[0m\n\u001b[1;32m     36\u001b[0m         \u001b[0minput_\u001b[0m \u001b[0;34m=\u001b[0m \u001b[0mdeepcopy\u001b[0m\u001b[0;34m(\u001b[0m\u001b[0margs\u001b[0m\u001b[0;34m[\u001b[0m\u001b[0;36m0\u001b[0m\u001b[0;34m]\u001b[0m\u001b[0;34m)\u001b[0m\u001b[0;34m\u001b[0m\u001b[0;34m\u001b[0m\u001b[0m\n\u001b[0;32m---> 37\u001b[0;31m         \u001b[0moutput_\u001b[0m \u001b[0;34m=\u001b[0m \u001b[0mself\u001b[0m\u001b[0;34m.\u001b[0m\u001b[0mtransform\u001b[0m\u001b[0;34m(\u001b[0m\u001b[0;34m*\u001b[0m\u001b[0margs\u001b[0m\u001b[0;34m,\u001b[0m \u001b[0;34m**\u001b[0m\u001b[0mkwargs\u001b[0m\u001b[0;34m)\u001b[0m\u001b[0;34m\u001b[0m\u001b[0;34m\u001b[0m\u001b[0m\n\u001b[0m\u001b[1;32m     38\u001b[0m         \u001b[0;32mif\u001b[0m \u001b[0;32mnot\u001b[0m \u001b[0mself\u001b[0m\u001b[0;34m.\u001b[0m\u001b[0mtest_equals\u001b[0m\u001b[0;34m(\u001b[0m\u001b[0minput_\u001b[0m\u001b[0;34m,\u001b[0m \u001b[0moutput_\u001b[0m\u001b[0;34m)\u001b[0m\u001b[0;34m:\u001b[0m\u001b[0;34m\u001b[0m\u001b[0;34m\u001b[0m\u001b[0m\n\u001b[1;32m     39\u001b[0m             \u001b[0;32mraise\u001b[0m \u001b[0mRuntimeError\u001b[0m\u001b[0;34m(\u001b[0m\u001b[0mself\u001b[0m\u001b[0;34m.\u001b[0m\u001b[0merror_message\u001b[0m\u001b[0;34m(\u001b[0m\u001b[0minput_\u001b[0m\u001b[0;34m,\u001b[0m \u001b[0moutput_\u001b[0m\u001b[0;34m)\u001b[0m\u001b[0;34m)\u001b[0m\u001b[0;34m\u001b[0m\u001b[0;34m\u001b[0m\u001b[0m\n",
      "\u001b[0;32m<ipython-input-3-6c9c79f679fd>\u001b[0m in \u001b[0;36mtransform\u001b[0;34m(self, df)\u001b[0m\n\u001b[1;32m     34\u001b[0m         \u001b[0;32mif\u001b[0m \u001b[0moutliers\u001b[0m\u001b[0;34m:\u001b[0m\u001b[0;34m\u001b[0m\u001b[0;34m\u001b[0m\u001b[0m\n\u001b[1;32m     35\u001b[0m             \u001b[0;32mif\u001b[0m \u001b[0mself\u001b[0m\u001b[0;34m.\u001b[0m\u001b[0mstop_execution\u001b[0m\u001b[0;34m:\u001b[0m\u001b[0;34m\u001b[0m\u001b[0;34m\u001b[0m\u001b[0m\n\u001b[0;32m---> 36\u001b[0;31m                 \u001b[0;32mraise\u001b[0m \u001b[0mValueError\u001b[0m\u001b[0;34m(\u001b[0m\u001b[0;34m\"Outliers have been detected in your dataframe.\"\u001b[0m\u001b[0;34m)\u001b[0m\u001b[0;34m\u001b[0m\u001b[0;34m\u001b[0m\u001b[0m\n\u001b[0m\u001b[1;32m     37\u001b[0m             \u001b[0;32melse\u001b[0m\u001b[0;34m:\u001b[0m\u001b[0;34m\u001b[0m\u001b[0;34m\u001b[0m\u001b[0m\n\u001b[1;32m     38\u001b[0m                 \u001b[0mself\u001b[0m\u001b[0;34m.\u001b[0m\u001b[0mlogger\u001b[0m\u001b[0;34m.\u001b[0m\u001b[0minfo\u001b[0m\u001b[0;34m(\u001b[0m\u001b[0;34m'Outliers!!'\u001b[0m\u001b[0;34m)\u001b[0m\u001b[0;34m\u001b[0m\u001b[0;34m\u001b[0m\u001b[0m\n",
      "\u001b[0;31mValueError\u001b[0m: Outliers have been detected in your dataframe."
     ]
    }
   ],
   "source": [
    "# This should cause an error!\n",
    "\n",
    "pipe_steps = [\n",
    "    CSVExtractor(),\n",
    "    AssignUIDsOperator('sc-uids', unique_prepend=''),\n",
    "    SigmaOutlierDetector(sigmas=6, stop_execution=True),\n",
    "    HeaderMap.from_yaml('../test_files/Strehlow and Cook map.yaml', complete_map=False),\n",
    "]\n",
    "\n",
    "pipe = Pipe(\n",
    "    steps=pipe_steps,\n",
    "    name='My pipe',\n",
    "    file_logging_level=10,\n",
    "    uid_column = 'sc-uids',\n",
    "    autocheckpoint = True,\n",
    "    autocompare= False,\n",
    "    logging_path = '/Users/esevgen/Citrine/Projects/'\n",
    ")\n",
    "gems = pipe(\"Strehlow and Cook.csv\")"
   ]
  },
  {
   "cell_type": "code",
   "execution_count": 5,
   "metadata": {},
   "outputs": [],
   "source": [
    "class FixBandgapUnits(TransformOperator):\n",
    "    \"\"\"Deals with Bandgap outliers in S&C.\n",
    "\n",
    "    Reduces outliers by a factor of 1000. A materials\n",
    "    scientist used meV insead of eV for some of the entries.\n",
    "\n",
    "    Parameters\n",
    "    ----------\n",
    "    column: string\n",
    "        The column to fix outliers.\n",
    "    threshold: float\n",
    "        The threshold, above which outliers are fixed.\n",
    "    \"\"\"\n",
    "\n",
    "    def __init__(self, column, threshold=50):\n",
    "        self.column = column\n",
    "        self.threshold = threshold\n",
    "\n",
    "    def transform(self, df):\n",
    "        \"\"\"Reduces outliers by a factor of 1000.\n",
    "\n",
    "        Parameters\n",
    "        ----------\n",
    "        df: DataFrame\n",
    "            Input dataframe that may contain outliers.\n",
    "\n",
    "        Returns\n",
    "        -------\n",
    "        DataFrame\n",
    "            Has the outliers reduced by a factor of 1000.\n",
    "        \"\"\"\n",
    "        original_values = df[self.column]\n",
    "\n",
    "        # collects transformed values\n",
    "        transformed_values = []\n",
    "        for val in original_values:\n",
    "            if val >= self.threshold:\n",
    "                val = val / 1000\n",
    "            transformed_values.append(val)\n",
    "\n",
    "        # returns edited version of df\n",
    "        df[self.column] = transformed_values\n",
    "        return df"
   ]
  },
  {
   "cell_type": "code",
   "execution_count": 6,
   "metadata": {
    "slideshow": {
     "slide_type": "slide"
    }
   },
   "outputs": [
    {
     "name": "stderr",
     "output_type": "stream",
     "text": [
      "2020-12-15_13.20.33 - My pipeline - Pipe: Pipe initialized.\n",
      "2020-12-15_13.20.33 - My pipeline - Pipe: The pipe consists of the following transforms:\n",
      "2020-12-15_13.20.33 - My pipeline - Pipe: CSVExtractor\n",
      "2020-12-15_13.20.33 - My pipeline - Pipe: AssignUIDsOperator\n",
      "2020-12-15_13.20.33 - My pipeline - Pipe: FixBandgapUnits\n",
      "2020-12-15_13.20.33 - My pipeline - Pipe: SigmaOutlierDetector\n",
      "2020-12-15_13.20.33 - My pipeline - Pipe: HeaderMap\n",
      "2020-12-15_13.20.33 - My pipeline - Pipe: Starting execution of pipe.\n",
      "  2020-12-15_13.20.33 - My pipeline - CSVExtractor: Applying transform\n",
      "  2020-12-15_13.20.33 - My pipeline - CSVExtractor: Applied transform\n",
      "  2020-12-15_13.20.33 - My pipeline - AssignUIDsOperator: Applying transform\n",
      "  2020-12-15_13.20.33 - My pipeline - AssignUIDsOperator: Applied transform\n",
      "  2020-12-15_13.20.33 - My pipeline - FixBandgapUnits: Applying transform\n",
      "  2020-12-15_13.20.33 - My pipeline - FixBandgapUnits: Applied transform\n",
      "  2020-12-15_13.20.33 - My pipeline - SigmaOutlierDetector: Applying transform\n",
      "  2020-12-15_13.20.33 - My pipeline - SigmaOutlierDetector: Outliers!!\n",
      "  2020-12-15_13.20.33 - My pipeline - SigmaOutlierDetector: Applied transform\n",
      "  2020-12-15_13.20.33 - My pipeline - HeaderMap: Applying transform\n",
      "  2020-12-15_13.20.33 - My pipeline - HeaderMap: Applied transform\n",
      "2020-12-15_13.20.33 - My pipeline - Pipe: Ended execution of pipe.\n"
     ]
    }
   ],
   "source": [
    "pipe_fixed_units = Pipe(\n",
    "    [\n",
    "        CSVExtractor(),\n",
    "        AssignUIDsOperator('sc-uids', unique_prepend=''),\n",
    "        FixBandgapUnits(\n",
    "            column='Band gap',\n",
    "            threshold=50,\n",
    "        ),\n",
    "        SigmaOutlierDetector(sigmas=6, stop_execution=False),\n",
    "        HeaderMap.from_yaml('../test_files/Strehlow and Cook map.yaml', complete_map=False),\n",
    "    ],\n",
    "    name='My pipeline',\n",
    "    uid_column = 'sc-uids',\n",
    "    autocheckpoint=False,\n",
    ")\n",
    "gems = pipe_fixed_units(\"Strehlow and Cook.csv\")"
   ]
  },
  {
   "cell_type": "code",
   "execution_count": null,
   "metadata": {},
   "outputs": [],
   "source": []
  },
  {
   "cell_type": "markdown",
   "metadata": {
    "slideshow": {
     "slide_type": "slide"
    }
   },
   "source": [
    "### Future Features\n",
    "\n",
    "1. Framework for **packaging domain-specific transformations**\n",
    "2. Support for **logging** errors, warnings, and transformation steps\n",
    "3. Support **branching pipelines** (ex. creating a master datasheet from a series of datafiles)"
   ]
  },
  {
   "cell_type": "markdown",
   "metadata": {
    "slideshow": {
     "slide_type": "slide"
    }
   },
   "source": [
    "### Feedback\n",
    "\n",
    "#### Could you execute a jumpstart with this framework? If not, what is missing?\n",
    "1. How useable is the Framework's UX?\n",
    "2. How useful could this be for customers making pipelines?\n",
    "\n",
    "#### What built-in features should we add?\n",
    "1. Additional outlier detectors?\n",
    "2. Common featurizers?\n",
    "3. Logs? Pipeline visualization?\n",
    "\n",
    "#### Are you bought-in on the framework vs library aspect?"
   ]
  },
  {
   "cell_type": "markdown",
   "metadata": {
    "slideshow": {
     "slide_type": "slide"
    }
   },
   "source": [
    "# Thank-you!"
   ]
  },
  {
   "cell_type": "code",
   "execution_count": 7,
   "metadata": {},
   "outputs": [],
   "source": [
    "# Try something more complicated\n",
    "# Connected pipeline with logging from pipes\n",
    "\n",
    "\n",
    "class IncrementOperator(TransformOperator):\n",
    "\n",
    "    def transform(self, input_):\n",
    "        self.logger.info(f'Received {input_}, passing {input_+1}.')\n",
    "        return input_ + 1\n",
    "    \n",
    "    \n",
    "class SumOperator(CastOperator):\n",
    "\n",
    "    @property\n",
    "    def input_type(self): \n",
    "        return PipelineData\n",
    "    \n",
    "    @property\n",
    "    def output_type(self):\n",
    "        return int\n",
    "\n",
    "    def transform(self, input_):\n",
    "        to_sum = list(input_.values())\n",
    "        self.logger.info(f'Summing {to_sum}, returning {sum(to_sum)}.')\n",
    "        return sum(to_sum)\n",
    "    \n",
    "class OneVsRestSplitOperator(CastOperator):\n",
    "        \n",
    "    @property\n",
    "    def input_type(self): \n",
    "        return int\n",
    "    \n",
    "    @property\n",
    "    def output_type(self):\n",
    "        return PipelineData\n",
    "    \n",
    "    def __init__(self, name):\n",
    "        self.name = name\n",
    "\n",
    "    def transform(self, input_):\n",
    "        self.logger.info(f'Received {input_}, splitting into {1} and {input_-1}.')\n",
    "        return PipelineData(**{f'{self.name}_output1': 1, f'{self.name}_output2': input_-1})"
   ]
  },
  {
   "cell_type": "code",
   "execution_count": 8,
   "metadata": {
    "scrolled": false
   },
   "outputs": [
    {
     "name": "stderr",
     "output_type": "stream",
     "text": [
      "2020-12-15_13.20.33 - Pipe1 - Pipe: Pipe initialized.\n",
      "2020-12-15_13.20.33 - Pipe1 - Pipe: The pipe consists of the following transforms:\n",
      "2020-12-15_13.20.33 - Pipe1 - Pipe: IncrementOperator\n",
      "2020-12-15_13.20.33 - Pipe1 - Pipe: IncrementOperator\n",
      "2020-12-15_13.20.33 - Pipe1 - Pipe: IncrementOperator\n",
      "2020-12-15_13.20.33 - Pipe2 - Pipe: Pipe initialized.\n",
      "2020-12-15_13.20.33 - Pipe2 - Pipe: The pipe consists of the following transforms:\n",
      "2020-12-15_13.20.33 - Pipe2 - Pipe: SumOperator\n",
      "2020-12-15_13.20.33 - Pipe2 - Pipe: IncrementOperator\n",
      "2020-12-15_13.20.33 - Pipe2 - Pipe: OneVsRestSplitOperator\n",
      "2020-12-15_13.20.33 - Pipe3 - Pipe: Pipe initialized.\n",
      "2020-12-15_13.20.33 - Pipe3 - Pipe: The pipe consists of the following transforms:\n",
      "2020-12-15_13.20.33 - Pipe3 - Pipe: SumOperator\n",
      "2020-12-15_13.20.33 - Pipe3 - Pipe: OneVsRestSplitOperator\n",
      "2020-12-15_13.20.33 - Pipe1 - Pipe: Starting execution of pipe.\n",
      "  2020-12-15_13.20.33 - Pipe1 - IncrementOperator: Applying transform\n",
      "  2020-12-15_13.20.33 - Pipe1 - IncrementOperator: Received 3, passing 4.\n",
      "  2020-12-15_13.20.33 - Pipe1 - IncrementOperator: Applied transform\n",
      "  2020-12-15_13.20.33 - Pipe1 - IncrementOperator: Applying transform\n",
      "  2020-12-15_13.20.33 - Pipe1 - IncrementOperator: Received 4, passing 5.\n",
      "  2020-12-15_13.20.33 - Pipe1 - IncrementOperator: Applied transform\n",
      "  2020-12-15_13.20.33 - Pipe1 - IncrementOperator: Applying transform\n",
      "  2020-12-15_13.20.33 - Pipe1 - IncrementOperator: Received 5, passing 6.\n",
      "  2020-12-15_13.20.33 - Pipe1 - IncrementOperator: Applied transform\n",
      "2020-12-15_13.20.33 - Pipe1 - Pipe: Ended execution of pipe.\n",
      "2020-12-15_13.20.33 - Pipe2 - Pipe: Starting execution of pipe.\n",
      "  2020-12-15_13.20.33 - Pipe2 - SumOperator: Applying transform\n",
      "  2020-12-15_13.20.33 - Pipe2 - SumOperator: Summing [6, 7], returning 13.\n",
      "  2020-12-15_13.20.33 - Pipe2 - SumOperator: Applied transform\n",
      "  2020-12-15_13.20.33 - Pipe2 - IncrementOperator: Applying transform\n",
      "  2020-12-15_13.20.33 - Pipe2 - IncrementOperator: Received 13, passing 14.\n",
      "  2020-12-15_13.20.33 - Pipe2 - IncrementOperator: Applied transform\n",
      "  2020-12-15_13.20.33 - Pipe2 - OneVsRestSplitOperator: Applying transform\n",
      "  2020-12-15_13.20.33 - Pipe2 - OneVsRestSplitOperator: Received 14, splitting into 1 and 13.\n",
      "  2020-12-15_13.20.33 - Pipe2 - OneVsRestSplitOperator: Applied transform\n",
      "2020-12-15_13.20.33 - Pipe2 - Pipe: Ended execution of pipe.\n",
      "2020-12-15_13.20.33 - Pipe3 - Pipe: Starting execution of pipe.\n",
      "  2020-12-15_13.20.33 - Pipe3 - SumOperator: Applying transform\n",
      "  2020-12-15_13.20.33 - Pipe3 - SumOperator: Summing [6, 1, 13], returning 20.\n",
      "  2020-12-15_13.20.33 - Pipe3 - SumOperator: Applied transform\n",
      "  2020-12-15_13.20.33 - Pipe3 - OneVsRestSplitOperator: Applying transform\n",
      "  2020-12-15_13.20.33 - Pipe3 - OneVsRestSplitOperator: Received 20, splitting into 1 and 19.\n",
      "  2020-12-15_13.20.33 - Pipe3 - OneVsRestSplitOperator: Applied transform\n",
      "2020-12-15_13.20.33 - Pipe3 - Pipe: Ended execution of pipe.\n"
     ]
    },
    {
     "data": {
      "text/plain": [
       "{'pipe3_output2': 19, 'pipe2_output2': 13, 'pipe3_output1': 1}"
      ]
     },
     "execution_count": 8,
     "metadata": {},
     "output_type": "execute_result"
    }
   ],
   "source": [
    "pipe1 = Pipe(\n",
    "    name='Pipe1',\n",
    "    steps=[IncrementOperator(),\n",
    "    IncrementOperator(),\n",
    "    IncrementOperator()])\n",
    "\n",
    "pipe2 = Pipe(\n",
    "    name='Pipe2',\n",
    "    steps=[SumOperator(),\n",
    "    IncrementOperator(),\n",
    "    OneVsRestSplitOperator('pipe2')])\n",
    "\n",
    "pipe3 = Pipe(\n",
    "    name='Pipe3',\n",
    "    steps=[SumOperator(),\n",
    "    OneVsRestSplitOperator('pipe3')])\n",
    "\n",
    "\n",
    "\n",
    "\n",
    "# ----------------------------------------\n",
    "\n",
    "inputs = {\n",
    "    pipe1: 'pipe1_raw',\n",
    "    pipe2: ['pipe1_output', 'pipe2_raw'],\n",
    "    pipe3: ['pipe1_output', 'pipe2_output1', 'pipe3_raw']\n",
    "}\n",
    "\n",
    "outputs = {\n",
    "    pipe1: 'pipe1_output',\n",
    "    pipe2: ['pipe2_output1', 'pipe2_output2'],\n",
    "    pipe3: ['pipe3_output1', 'pipe3_output2']\n",
    "}\n",
    "\n",
    "raws = {\n",
    "    'pipe1_raw': 3,\n",
    "    'pipe2_raw': 7,\n",
    "    'pipe3_raw': 13\n",
    "}\n",
    "\n",
    "pipeline = Pipeline(inputs, outputs, raws)\n",
    "pipeline.run()"
   ]
  },
  {
   "cell_type": "code",
   "execution_count": 10,
   "metadata": {},
   "outputs": [
    {
     "data": {
      "image/svg+xml": [
       "<?xml version=\"1.0\" encoding=\"UTF-8\" standalone=\"no\"?>\n",
       "<!DOCTYPE svg PUBLIC \"-//W3C//DTD SVG 1.1//EN\"\n",
       " \"http://www.w3.org/Graphics/SVG/1.1/DTD/svg11.dtd\">\n",
       "<!-- Generated by graphviz version 2.43.0 (0)\n",
       " -->\n",
       "<!-- Title: %3 Pages: 1 -->\n",
       "<svg width=\"482pt\" height=\"714pt\"\n",
       " viewBox=\"0.00 0.00 481.55 714.00\" xmlns=\"http://www.w3.org/2000/svg\" xmlns:xlink=\"http://www.w3.org/1999/xlink\">\n",
       "<g id=\"graph0\" class=\"graph\" transform=\"scale(1 1) rotate(0) translate(4 710)\">\n",
       "<title>%3</title>\n",
       "<polygon fill=\"white\" stroke=\"transparent\" points=\"-4,4 -4,-710 477.55,-710 477.55,4 -4,4\"/>\n",
       "<g id=\"clust1\" class=\"cluster\">\n",
       "<title>cluster_0</title>\n",
       "<polygon fill=\"none\" stroke=\"blue\" points=\"8,-218 8,-436 222,-436 222,-218 8,-218\"/>\n",
       "<text text-anchor=\"middle\" x=\"198.06\" y=\"-420.8\" font-family=\"Times,serif\" font-size=\"14.00\">Pipe2</text>\n",
       "</g>\n",
       "<g id=\"clust2\" class=\"cluster\">\n",
       "<title>cluster_1</title>\n",
       "<polygon fill=\"none\" stroke=\"blue\" points=\"160,-444 160,-662 330,-662 330,-444 160,-444\"/>\n",
       "<text text-anchor=\"middle\" x=\"306.06\" y=\"-646.8\" font-family=\"Times,serif\" font-size=\"14.00\">Pipe1</text>\n",
       "</g>\n",
       "<g id=\"clust3\" class=\"cluster\">\n",
       "<title>cluster_2</title>\n",
       "<polygon fill=\"none\" stroke=\"blue\" points=\"184,-64 184,-210 398,-210 398,-64 184,-64\"/>\n",
       "<text text-anchor=\"middle\" x=\"374.06\" y=\"-194.8\" font-family=\"Times,serif\" font-size=\"14.00\">Pipe3</text>\n",
       "</g>\n",
       "<!-- A -->\n",
       "<g id=\"node1\" class=\"node\">\n",
       "<title>A</title>\n",
       "<ellipse fill=\"none\" stroke=\"black\" cx=\"115\" cy=\"-388\" rx=\"57.51\" ry=\"18\"/>\n",
       "<text text-anchor=\"middle\" x=\"115\" y=\"-383.8\" font-family=\"Times,serif\" font-size=\"14.00\">SumOperator</text>\n",
       "</g>\n",
       "<!-- B -->\n",
       "<g id=\"node2\" class=\"node\">\n",
       "<title>B</title>\n",
       "<ellipse fill=\"none\" stroke=\"black\" cx=\"115\" cy=\"-316\" rx=\"77.26\" ry=\"18\"/>\n",
       "<text text-anchor=\"middle\" x=\"115\" y=\"-311.8\" font-family=\"Times,serif\" font-size=\"14.00\">IncrementOperator</text>\n",
       "</g>\n",
       "<!-- A&#45;&gt;B -->\n",
       "<g id=\"edge1\" class=\"edge\">\n",
       "<title>A&#45;&gt;B</title>\n",
       "<path fill=\"none\" stroke=\"black\" d=\"M115,-369.7C115,-361.98 115,-352.71 115,-344.11\"/>\n",
       "<polygon fill=\"black\" stroke=\"black\" points=\"118.5,-344.1 115,-334.1 111.5,-344.1 118.5,-344.1\"/>\n",
       "</g>\n",
       "<!-- C -->\n",
       "<g id=\"node3\" class=\"node\">\n",
       "<title>C</title>\n",
       "<ellipse fill=\"none\" stroke=\"black\" cx=\"115\" cy=\"-244\" rx=\"98.56\" ry=\"18\"/>\n",
       "<text text-anchor=\"middle\" x=\"115\" y=\"-239.8\" font-family=\"Times,serif\" font-size=\"14.00\">OneVsRestSplitOperator</text>\n",
       "</g>\n",
       "<!-- B&#45;&gt;C -->\n",
       "<g id=\"edge2\" class=\"edge\">\n",
       "<title>B&#45;&gt;C</title>\n",
       "<path fill=\"none\" stroke=\"black\" d=\"M115,-297.7C115,-289.98 115,-280.71 115,-272.11\"/>\n",
       "<polygon fill=\"black\" stroke=\"black\" points=\"118.5,-272.1 115,-262.1 111.5,-272.1 118.5,-272.1\"/>\n",
       "</g>\n",
       "<!-- G -->\n",
       "<g id=\"node7\" class=\"node\">\n",
       "<title>G</title>\n",
       "<ellipse fill=\"none\" stroke=\"black\" cx=\"271\" cy=\"-162\" rx=\"57.51\" ry=\"18\"/>\n",
       "<text text-anchor=\"middle\" x=\"271\" y=\"-157.8\" font-family=\"Times,serif\" font-size=\"14.00\">SumOperator</text>\n",
       "</g>\n",
       "<!-- C&#45;&gt;G -->\n",
       "<g id=\"edge6\" class=\"edge\">\n",
       "<title>C&#45;&gt;G</title>\n",
       "<path fill=\"none\" stroke=\"black\" d=\"M149.73,-227.12C161.05,-221.82 173.62,-215.78 185,-210 201.71,-201.51 219.95,-191.62 235.33,-183.12\"/>\n",
       "<polygon fill=\"black\" stroke=\"black\" points=\"237.45,-185.94 244.49,-178.02 234.05,-179.82 237.45,-185.94\"/>\n",
       "</g>\n",
       "<!-- M -->\n",
       "<g id=\"node13\" class=\"node\">\n",
       "<title>M</title>\n",
       "<polygon fill=\"none\" stroke=\"black\" points=\"89,-180 2.4,-162 89,-144 175.6,-162 89,-180\"/>\n",
       "<text text-anchor=\"middle\" x=\"89\" y=\"-157.8\" font-family=\"Times,serif\" font-size=\"14.00\">pipe2_output2</text>\n",
       "</g>\n",
       "<!-- C&#45;&gt;M -->\n",
       "<g id=\"edge13\" class=\"edge\">\n",
       "<title>C&#45;&gt;M</title>\n",
       "<path fill=\"none\" stroke=\"black\" d=\"M109.36,-225.64C105.83,-214.8 101.24,-200.65 97.3,-188.54\"/>\n",
       "<polygon fill=\"black\" stroke=\"black\" points=\"100.61,-187.39 94.19,-178.97 93.95,-189.56 100.61,-187.39\"/>\n",
       "</g>\n",
       "<!-- D -->\n",
       "<g id=\"node4\" class=\"node\">\n",
       "<title>D</title>\n",
       "<ellipse fill=\"none\" stroke=\"black\" cx=\"245\" cy=\"-614\" rx=\"77.26\" ry=\"18\"/>\n",
       "<text text-anchor=\"middle\" x=\"245\" y=\"-609.8\" font-family=\"Times,serif\" font-size=\"14.00\">IncrementOperator</text>\n",
       "</g>\n",
       "<!-- E -->\n",
       "<g id=\"node5\" class=\"node\">\n",
       "<title>E</title>\n",
       "<ellipse fill=\"none\" stroke=\"black\" cx=\"245\" cy=\"-542\" rx=\"77.26\" ry=\"18\"/>\n",
       "<text text-anchor=\"middle\" x=\"245\" y=\"-537.8\" font-family=\"Times,serif\" font-size=\"14.00\">IncrementOperator</text>\n",
       "</g>\n",
       "<!-- D&#45;&gt;E -->\n",
       "<g id=\"edge3\" class=\"edge\">\n",
       "<title>D&#45;&gt;E</title>\n",
       "<path fill=\"none\" stroke=\"black\" d=\"M245,-595.7C245,-587.98 245,-578.71 245,-570.11\"/>\n",
       "<polygon fill=\"black\" stroke=\"black\" points=\"248.5,-570.1 245,-560.1 241.5,-570.1 248.5,-570.1\"/>\n",
       "</g>\n",
       "<!-- F -->\n",
       "<g id=\"node6\" class=\"node\">\n",
       "<title>F</title>\n",
       "<ellipse fill=\"none\" stroke=\"black\" cx=\"245\" cy=\"-470\" rx=\"77.26\" ry=\"18\"/>\n",
       "<text text-anchor=\"middle\" x=\"245\" y=\"-465.8\" font-family=\"Times,serif\" font-size=\"14.00\">IncrementOperator</text>\n",
       "</g>\n",
       "<!-- E&#45;&gt;F -->\n",
       "<g id=\"edge4\" class=\"edge\">\n",
       "<title>E&#45;&gt;F</title>\n",
       "<path fill=\"none\" stroke=\"black\" d=\"M245,-523.7C245,-515.98 245,-506.71 245,-498.11\"/>\n",
       "<polygon fill=\"black\" stroke=\"black\" points=\"248.5,-498.1 245,-488.1 241.5,-498.1 248.5,-498.1\"/>\n",
       "</g>\n",
       "<!-- F&#45;&gt;A -->\n",
       "<g id=\"edge7\" class=\"edge\">\n",
       "<title>F&#45;&gt;A</title>\n",
       "<path fill=\"none\" stroke=\"black\" d=\"M219.01,-453C198.82,-440.58 170.66,-423.25 148.74,-409.76\"/>\n",
       "<polygon fill=\"black\" stroke=\"black\" points=\"150.42,-406.69 140.07,-404.43 146.75,-412.65 150.42,-406.69\"/>\n",
       "</g>\n",
       "<!-- F&#45;&gt;G -->\n",
       "<g id=\"edge8\" class=\"edge\">\n",
       "<title>F&#45;&gt;G</title>\n",
       "<path fill=\"none\" stroke=\"black\" d=\"M245.99,-451.93C248.41,-411.33 255.09,-305.83 264,-218 264.91,-209.01 266.1,-199.22 267.23,-190.43\"/>\n",
       "<polygon fill=\"black\" stroke=\"black\" points=\"270.73,-190.69 268.57,-180.31 263.79,-189.77 270.73,-190.69\"/>\n",
       "</g>\n",
       "<!-- H -->\n",
       "<g id=\"node8\" class=\"node\">\n",
       "<title>H</title>\n",
       "<ellipse fill=\"none\" stroke=\"black\" cx=\"291\" cy=\"-90\" rx=\"98.56\" ry=\"18\"/>\n",
       "<text text-anchor=\"middle\" x=\"291\" y=\"-85.8\" font-family=\"Times,serif\" font-size=\"14.00\">OneVsRestSplitOperator</text>\n",
       "</g>\n",
       "<!-- G&#45;&gt;H -->\n",
       "<g id=\"edge5\" class=\"edge\">\n",
       "<title>G&#45;&gt;H</title>\n",
       "<path fill=\"none\" stroke=\"black\" d=\"M275.84,-144.05C278.07,-136.26 280.77,-126.82 283.26,-118.08\"/>\n",
       "<polygon fill=\"black\" stroke=\"black\" points=\"286.68,-118.85 286.06,-108.28 279.95,-116.93 286.68,-118.85\"/>\n",
       "</g>\n",
       "<!-- L -->\n",
       "<g id=\"node12\" class=\"node\">\n",
       "<title>L</title>\n",
       "<polygon fill=\"none\" stroke=\"black\" points=\"196,-36 109.4,-18 196,0 282.6,-18 196,-36\"/>\n",
       "<text text-anchor=\"middle\" x=\"196\" y=\"-13.8\" font-family=\"Times,serif\" font-size=\"14.00\">pipe3_output2</text>\n",
       "</g>\n",
       "<!-- H&#45;&gt;L -->\n",
       "<g id=\"edge12\" class=\"edge\">\n",
       "<title>H&#45;&gt;L</title>\n",
       "<path fill=\"none\" stroke=\"black\" d=\"M268.49,-72.41C254.63,-62.2 236.82,-49.08 222.32,-38.39\"/>\n",
       "<polygon fill=\"black\" stroke=\"black\" points=\"224.34,-35.54 214.22,-32.42 220.19,-41.17 224.34,-35.54\"/>\n",
       "</g>\n",
       "<!-- N -->\n",
       "<g id=\"node14\" class=\"node\">\n",
       "<title>N</title>\n",
       "<polygon fill=\"none\" stroke=\"black\" points=\"387,-36 300.4,-18 387,0 473.6,-18 387,-36\"/>\n",
       "<text text-anchor=\"middle\" x=\"387\" y=\"-13.8\" font-family=\"Times,serif\" font-size=\"14.00\">pipe3_output1</text>\n",
       "</g>\n",
       "<!-- H&#45;&gt;N -->\n",
       "<g id=\"edge14\" class=\"edge\">\n",
       "<title>H&#45;&gt;N</title>\n",
       "<path fill=\"none\" stroke=\"black\" d=\"M313.75,-72.41C327.75,-62.2 345.75,-49.08 360.41,-38.39\"/>\n",
       "<polygon fill=\"black\" stroke=\"black\" points=\"362.57,-41.14 368.59,-32.42 358.45,-35.49 362.57,-41.14\"/>\n",
       "</g>\n",
       "<!-- I -->\n",
       "<g id=\"node9\" class=\"node\">\n",
       "<title>I</title>\n",
       "<polygon fill=\"none\" stroke=\"black\" points=\"282.59,-706 207.41,-706 207.41,-670 282.59,-670 282.59,-706\"/>\n",
       "<text text-anchor=\"middle\" x=\"245\" y=\"-683.8\" font-family=\"Times,serif\" font-size=\"14.00\">pipe1_raw</text>\n",
       "</g>\n",
       "<!-- I&#45;&gt;D -->\n",
       "<g id=\"edge9\" class=\"edge\">\n",
       "<title>I&#45;&gt;D</title>\n",
       "<path fill=\"none\" stroke=\"black\" d=\"M245,-669.94C245,-661.81 245,-651.88 245,-642.7\"/>\n",
       "<polygon fill=\"black\" stroke=\"black\" points=\"248.5,-642.44 245,-632.44 241.5,-642.44 248.5,-642.44\"/>\n",
       "</g>\n",
       "<!-- J -->\n",
       "<g id=\"node10\" class=\"node\">\n",
       "<title>J</title>\n",
       "<polygon fill=\"none\" stroke=\"black\" points=\"149.59,-488 74.41,-488 74.41,-452 149.59,-452 149.59,-488\"/>\n",
       "<text text-anchor=\"middle\" x=\"112\" y=\"-465.8\" font-family=\"Times,serif\" font-size=\"14.00\">pipe2_raw</text>\n",
       "</g>\n",
       "<!-- J&#45;&gt;A -->\n",
       "<g id=\"edge10\" class=\"edge\">\n",
       "<title>J&#45;&gt;A</title>\n",
       "<path fill=\"none\" stroke=\"black\" d=\"M112.65,-451.64C113.04,-441.3 113.54,-427.94 113.98,-416.22\"/>\n",
       "<polygon fill=\"black\" stroke=\"black\" points=\"117.48,-416.17 114.36,-406.05 110.49,-415.91 117.48,-416.17\"/>\n",
       "</g>\n",
       "<!-- K -->\n",
       "<g id=\"node11\" class=\"node\">\n",
       "<title>K</title>\n",
       "<polygon fill=\"none\" stroke=\"black\" points=\"348.59,-262 273.41,-262 273.41,-226 348.59,-226 348.59,-262\"/>\n",
       "<text text-anchor=\"middle\" x=\"311\" y=\"-239.8\" font-family=\"Times,serif\" font-size=\"14.00\">pipe3_raw</text>\n",
       "</g>\n",
       "<!-- K&#45;&gt;G -->\n",
       "<g id=\"edge11\" class=\"edge\">\n",
       "<title>K&#45;&gt;G</title>\n",
       "<path fill=\"none\" stroke=\"black\" d=\"M302.32,-225.64C296.99,-214.98 290.06,-201.12 284.07,-189.15\"/>\n",
       "<polygon fill=\"black\" stroke=\"black\" points=\"287.13,-187.43 279.53,-180.05 280.87,-190.56 287.13,-187.43\"/>\n",
       "</g>\n",
       "</g>\n",
       "</svg>\n"
      ],
      "text/plain": [
       "<graphviz.dot.Digraph at 0x7f93643eb4f0>"
      ]
     },
     "execution_count": 10,
     "metadata": {},
     "output_type": "execute_result"
    }
   ],
   "source": [
    "pipeline.visualize(True)"
   ]
  }
 ],
 "metadata": {
  "celltoolbar": "Slideshow",
  "kernelspec": {
   "display_name": "Python 3",
   "language": "python",
   "name": "python3"
  },
  "language_info": {
   "codemirror_mode": {
    "name": "ipython",
    "version": 3
   },
   "file_extension": ".py",
   "mimetype": "text/x-python",
   "name": "python",
   "nbconvert_exporter": "python",
   "pygments_lexer": "ipython3",
   "version": "3.8.5"
  }
 },
 "nbformat": 4,
 "nbformat_minor": 2
}
